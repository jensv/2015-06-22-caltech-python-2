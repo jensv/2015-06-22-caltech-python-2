{
 "cells": [
  {
   "cell_type": "markdown",
   "metadata": {
    "cell_tags": []
   },
   "source": [
    "## Defensive programming exercise"
   ]
  },
  {
   "cell_type": "markdown",
   "metadata": {},
   "source": [
    "#### Challenge\n",
    "\n",
    "Add an assert to the `analyze` function to check that the temperature in celsius is more than -50 and that rainfall is positive"
   ]
  },
  {
   "cell_type": "markdown",
   "metadata": {},
   "source": [
    "Open the challenge notebook at https://github.com/jensv/2015-06-22-caltech-python-2/blob/gh-pages/challenge-notebook.ipynb, the solution is below"
   ]
  },
  {
   "cell_type": "code",
   "execution_count": 5,
   "metadata": {
    "collapsed": false
   },
   "outputs": [],
   "source": [
    "import pandas as pd\n",
    "import statsmodels.api as sm\n",
    "import matplotlib.pyplot as plt\n",
    "\n",
    "def fahr_to_celsius(temp_fahr):\n",
    "    \"\"\"Convert temperature from Fahrenheit to Celsius\"\"\"\n",
    "    temp_celsius = (temp_fahr - 32) * 5 / 9.0\n",
    "    return temp_celsius\n",
    "\n",
    "def analyze(data):\n",
    "    \"\"\"Perform regression analysis on mosquito data\n",
    "   \n",
    "    Performs a linear regression based on rainfall and temperature.\n",
    "    Creates two plots of the results and returns fit parameters.\n",
    "    \n",
    "    Parameters\n",
    "    ----------\n",
    "    data : pandas.Dataframe\n",
    "        Column named 'temperature', 'rainfall' and 'mosquitos'.\n",
    "            \n",
    "    Returns\n",
    "    -------\n",
    "    parameters : list of pandas.Series\n",
    "        Return a list of the fitting parameters for rainfall and temperature\n",
    "    \n",
    "    \"\"\"\n",
    "    data['temperature'] = fahr_to_celsius(data['temperature'])\n",
    "    assert data['temperature'].min() > -50\n",
    "    assert data['rainfall'].min() > 0\n",
    "    output = []\n",
    "    for variable in ['rainfall', 'temperature']:\n",
    "        # linear fit\n",
    "        regr_results = sm.OLS.from_formula('mosquitos ~ ' + variable, data).fit()\n",
    "        parameters = regr_results.params\n",
    "        line_fit = parameters['Intercept'] + parameters[variable] * data[variable]\n",
    "        # plotting\n",
    "        plt.figure()\n",
    "        plt.plot(data[variable], data['mosquitos'], '.', label=\"data\")\n",
    "        plt.plot(data[variable], line_fit, 'red', label=\"fit\")\n",
    "        plt.xlabel(variable)\n",
    "        plt.ylabel('mosquitos')\n",
    "        plt.legend(loc='best')\n",
    "        output.append(parameters)\n",
    "    return output"
   ]
  },
  {
   "cell_type": "code",
   "execution_count": 6,
   "metadata": {
    "collapsed": false
   },
   "outputs": [],
   "source": [
    "%matplotlib inline"
   ]
  },
  {
   "cell_type": "code",
   "execution_count": 7,
   "metadata": {
    "collapsed": false
   },
   "outputs": [
    {
     "data": {
      "text/plain": [
       "[Intercept    41.159816\n",
       " rainfall      0.695885\n",
       " dtype: float64, Intercept      166.715804\n",
       " temperature      0.688853\n",
       " dtype: float64]"
      ]
     },
     "execution_count": 7,
     "metadata": {},
     "output_type": "execute_result"
    },
    {
     "data": {
      "image/png": "[encoded data removed]",
      "text/plain": [
       "<matplotlib.figure.Figure at 0x7f66fe1480d0>"
      ]
     },
     "metadata": {},
     "output_type": "display_data"
    },
    {
     "data": {
      "image/png": "[encoded data removed]",
      "text/plain": [
       "<matplotlib.figure.Figure at 0x7f66fe08db90>"
      ]
     },
     "metadata": {},
     "output_type": "display_data"
    }
   ],
   "source": [
    "analyze(pd.read_csv('A2_mosquito_data.csv'))"
   ]
  }
 ],
 "metadata": {
  "kernelspec": {
   "display_name": "Python 2",
   "language": "python",
   "name": "python2"
  },
  "language_info": {
   "codemirror_mode": {
    "name": "ipython",
    "version": 2
   },
   "file_extension": ".py",
   "mimetype": "text/x-python",
   "name": "python",
   "nbconvert_exporter": "python",
   "pygments_lexer": "ipython2",
   "version": "2.7.10"
  }
 },
 "nbformat": 4,
 "nbformat_minor": 0
}
