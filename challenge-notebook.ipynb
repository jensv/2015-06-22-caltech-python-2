{
 "cells": [
  {
   "cell_type": "markdown",
   "metadata": {},
   "source": [
    "Add `assert` statements to check that:\n",
    "\n",
    "* temperature in Celsius is always over -50\n",
    "* rainfall is always positive"
   ]
  },
  {
   "cell_type": "code",
   "execution_count": 1,
   "metadata": {
    "collapsed": false
   },
   "outputs": [],
   "source": [
    "import pandas as pd\n",
    "import statsmodels.api as sm\n",
    "import matplotlib.pyplot as plt\n",
    "\n",
    "def fahr_to_celsius(temp_fahr):\n",
    "    \"\"\"Convert temperature from Fahrenheit to Celsius\"\"\"\n",
    "    temp_celsius = (temp_fahr - 32) * 5 / 9.0\n",
    "    return temp_celsius\n",
    "\n",
    "def analyze(data):\n",
    "    \"\"\"Perform regression analysis on mosquito data\n",
    "   \n",
    "    Performs a linear regression based on rainfall and temperature.\n",
    "    Creates two plots of the results and returns fit parameters.\n",
    "    \n",
    "    Parameters\n",
    "    ----------\n",
    "    data : pandas.Dataframe\n",
    "        Column named 'temperature', 'rainfall' and 'mosquitos'.\n",
    "            \n",
    "    Returns\n",
    "    -------\n",
    "    parameters : list of pandas.Series\n",
    "        Return a list of the fitting parameters for rainfall and temperature\n",
    "    \n",
    "    \"\"\"\n",
    "    data['temperature'] = fahr_to_celsius(data['temperature'])\n",
    "\n",
    "    ###### INSERT ASSERT STATEMENTS HERE\n",
    "    \n",
    "    output = []\n",
    "    for variable in ['rainfall', 'temperature']:\n",
    "        # linear fit\n",
    "        regr_results = sm.OLS.from_formula('mosquitos ~ ' + variable, data).fit()\n",
    "        parameters = regr_results.params\n",
    "        line_fit = parameters['Intercept'] + parameters[variable] * data[variable]\n",
    "        # plotting\n",
    "        plt.figure()\n",
    "        plt.plot(data[variable], data['mosquitos'], '.', label=\"data\")\n",
    "        plt.plot(data[variable], line_fit, 'red', label=\"fit\")\n",
    "        plt.xlabel(variable)\n",
    "        plt.ylabel('mosquitos')\n",
    "        plt.legend(loc='best')\n",
    "        output.append(parameters)\n",
    "    return output"
   ]
  },
  {
   "cell_type": "code",
   "execution_count": null,
   "metadata": {
    "collapsed": false
   },
   "outputs": [],
   "source": []
  }
 ],
 "metadata": {
  "kernelspec": {
   "display_name": "Python 2",
   "language": "python",
   "name": "python2"
  },
  "language_info": {
   "codemirror_mode": {
    "name": "ipython",
    "version": 2
   },
   "file_extension": ".py",
   "mimetype": "text/x-python",
   "name": "python",
   "nbconvert_exporter": "python",
   "pygments_lexer": "ipython2",
   "version": "2.7.10"
  }
 },
 "nbformat": 4,
 "nbformat_minor": 0
}
